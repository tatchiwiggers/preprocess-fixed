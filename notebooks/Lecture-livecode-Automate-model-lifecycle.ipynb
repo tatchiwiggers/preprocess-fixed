{
 "cells": [
  {
   "cell_type": "markdown",
   "metadata": {},
   "source": [
    "# Setup"
   ]
  },
  {
   "attachments": {},
   "cell_type": "markdown",
   "metadata": {},
   "source": [
    "1. Run `make reinstall_package`\n",
    "2. Run `cp .env.sample .env` and the fill the .env aside from the mlflow variables (leave them for the livecode)\n",
    "3. Run `make reset_all_files`\n",
    "4. Run `make run_preprocess` to create the 1k bq table"
   ]
  },
  {
   "attachments": {},
   "cell_type": "markdown",
   "metadata": {},
   "source": [
    "# MLflow livecode"
   ]
  },
  {
   "attachments": {},
   "cell_type": "markdown",
   "metadata": {},
   "source": [
    "🕵️‍♀️ Start by looking and explaining the decorator in `registry.py` then show where it is now used in `main.py`\n"
   ]
  },
  {
   "attachments": {},
   "cell_type": "markdown",
   "metadata": {},
   "source": [
    "💻 \n",
    "\n",
    "- Start by filling the necessary envs in `.env` then don't forget to direnv reload \n",
    "- Then `make run_train` and checkout the results on the mlflow ui\n",
    "- Update `save_model` \n",
    "\n",
    "```python\n",
    "if MODEL_TARGET == \"mlflow\":\n",
    "    mlflow.tensorflow.log_model(model=model,\n",
    "                            artifact_path=\"model\",\n",
    "                            registered_model_name=MLFLOW_MODEL_NAME\n",
    "                            )\n",
    "```\n",
    "The `make run_train` show the model in mlflow and shift it to production\n",
    "\n",
    "- Update `load_model`\n",
    "```python\n",
    "if MODEL_TARGET == \"mlflow\":\n",
    "    mlflow.set_tracking_uri(MLFLOW_TRACKING_URI)\n",
    "    client = MlflowClient()\n",
    "    model_versions = client.get_latest_versions(name=MLFLOW_MODEL_NAME, stages=[stage])\n",
    "    model_uri = model_versions[0].source\n",
    "    model = mlflow.tensorflow.load_model(model_uri=model_uri)\n",
    "```\n",
    "- Run a prediction with the loaded model\n",
    "\n"
   ]
  },
  {
   "attachments": {},
   "cell_type": "markdown",
   "metadata": {},
   "source": [
    "# Workflow deconstruction"
   ]
  },
  {
   "attachments": {},
   "cell_type": "markdown",
   "metadata": {},
   "source": [
    "- Create a new file in interface called `workflow.py`\n",
    "\n",
    "- populate it can either live code or copy but this section should fast to get to prefect!\n",
    "\n",
    "```python\n",
    "from taxifare.interface.main import evaluate, preprocess, train\n",
    "\n",
    "def preprocess_new_data(min_date: str, max_date: str):\n",
    "    preprocess(min_date=min_date, max_date=max_date)\n",
    "\n",
    "def evaluate_production_model(min_date: str, max_date: str):\n",
    "    eval_mae = evaluate(min_date=min_date, max_date=max_date)\n",
    "    return eval_mae\n",
    "\n",
    "def re_train(min_date: str, max_date: str):\n",
    "    train_mae = train(min_date=min_date, max_date=max_date, split_ratio=0.2)\n",
    "    return train_mae\n",
    "\n",
    "def train_flow():\n",
    "    min_date = \"2015-01-01\"\n",
    "    max_date = \"2015-02-01\"\n",
    "    preprocess_new_data(min_date, max_date)\n",
    "    old_mae = evaluate_production_model(min_date, max_date)\n",
    "    new_mae = re_train(min_date, max_date)\n",
    "\n",
    "if __name__ == \"__main__\":\n",
    "    train_flow()\n",
    "```\n",
    "\n",
    "- then run the script!\n",
    "\n",
    "- Checkout the new model "
   ]
  },
  {
   "attachments": {},
   "cell_type": "markdown",
   "metadata": {},
   "source": [
    "# Prefect livecode"
   ]
  },
  {
   "attachments": {},
   "cell_type": "markdown",
   "metadata": {},
   "source": [
    "- Show how to connect to prefect cloud\n",
    "`prefect cloud login`\n",
    "\n",
    "- Import `task` and `flow` from prefect then decorate the tasks and flow as appropriate\n",
    "\n",
    "```python\n",
    "from taxifare.interface.main import evaluate, preprocess, train\n",
    "from prefect import task, flow\n",
    "\n",
    "@task\n",
    "def preprocess_new_data(min_date: str, max_date: str):\n",
    "    preprocess(min_date=min_date, max_date=max_date)\n",
    "\n",
    "@task\n",
    "def evaluate_production_model(min_date: str, max_date: str):\n",
    "    eval_mae = evaluate(min_date=min_date, max_date=max_date)\n",
    "    return eval_mae\n",
    "\n",
    "@task\n",
    "def re_train(min_date: str, max_date: str):\n",
    "    train_mae = train(min_date=min_date, max_date=max_date, split_ratio=0.2)\n",
    "    return train_mae\n",
    "\n",
    "@flow\n",
    "def train_flow():\n",
    "    min_date = \"2015-01-01\"\n",
    "    max_date = \"2015-02-01\"\n",
    "    preprocess_new_data(min_date, max_date)\n",
    "    evaluate_production_model(min_date, max_date)\n",
    "    re_train(min_date, max_date)\n",
    "\n",
    "if __name__ == \"__main__\":\n",
    "    train_flow()\n",
    "```\n",
    "\n",
    "- Then rerun the script and see it happen live in the interface\n",
    "\n",
    "- We can now optimize by running submitting the tasks instead\n",
    "\n",
    "```python\n",
    "@flow\n",
    "def train_flow():\n",
    "    min_date = \"2015-01-01\"\n",
    "    max_date = \"2015-02-01\"\n",
    "    preprocess_new_data.submit(min_date, max_date)\n",
    "    evaluate_production_model.submit(min_date, max_date)\n",
    "    re_train.submit(min_date, max_date)\n",
    "```\n",
    "\n",
    "- Show the problem that we now have of preprocess happening at the same time as retraining by rerunning and observing via the prefect ui \n",
    "\n",
    "- Finally wait for the preprocessing!\n",
    "\n",
    "\n",
    "```python\n",
    "@flow\n",
    "def train_flow():\n",
    "    min_date = \"2015-01-01\"\n",
    "    max_date = \"2015-02-01\"\n",
    "    preprocessed = preprocess_new_data.submit(min_date, max_date)\n",
    "    evaluate_production_model.submit(min_date, max_date, wait_for=[preprocessed])\n",
    "    re_train.submit(min_date, max_date, wait_for=[preprocessed])\n",
    "```"
   ]
  }
 ],
 "metadata": {
  "kernelspec": {
   "display_name": "Python 3",
   "language": "python",
   "name": "python3"
  }
 },
 "nbformat": 4,
 "nbformat_minor": 5
}
